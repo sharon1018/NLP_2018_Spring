{
 "cells": [
  {
   "cell_type": "markdown",
   "metadata": {},
   "source": [
    "### Lab 07\n",
    "• Purpose: Selecting good examples for collocations\n",
    "• Input:\n",
    "    - SENTS: a set of sentences\n",
    "    – COLLS: a set of collocation with distance (e.g., [’difficulty’, ’task’, 3])\n",
    "    – PRONS: a list of pronouns, ’i, you, your, yours, he, she, they, him, her, them, his, their, it’\n",
    "• Output:\n",
    "    – EXAMPLES: A set of word, col, sentence"
   ]
  },
  {
   "cell_type": "code",
   "execution_count": 2,
   "metadata": {},
   "outputs": [
    {
     "name": "stdout",
     "output_type": "stream",
     "text": [
      "\n"
     ]
    }
   ],
   "source": [
    "\"\"\"\n",
    "Mapper\n",
    "    - Read a sentence S in SENTS\n",
    "    - For each distance bigram, S[i], S[i+d], where d in [-5,5]\n",
    "    - If isCollocation(S[i], S[i+d], d) and 10 ≤ |S| ≤25,\n",
    "    - Output S[i] S[i+d] <tab> S\n",
    "\"\"\"\n"
   ]
  },
  {
   "cell_type": "code",
   "execution_count": null,
   "metadata": {},
   "outputs": [],
   "source": [
    "\"\"\"\n",
    "Reducer\n",
    "    - For all S in each key group of (Word, Col, Dist)\n",
    "    - Compute Score(S)\n",
    "    = location of Word – #(words ∈ S & ∈/ HiFreWords) – #(words ∈ S & words ∈ PRONS)\n",
    "    - Find S* with the maximum value of Score\n",
    "    - Output Word Col <tab> S*\n",
    "\"\"\"\n",
    "\n",
    "from collections import defaultdict, Counter\n",
    "import sys\n",
    "import re\n",
    "from itertools import combinations\n",
    "from itertools import groupby\n",
    "\n",
    "def tokens(str1):\n",
    "    return re.findall('[a-z]+', str1.lower())\n",
    "\n",
    "HiFreWords = []\n",
    "prons = []\n",
    "for line in open('HiFreWords', 'r'):\n",
    "    HiFreWords += line.split('\\t')\n",
    "for line in open('prons.txt', 'r'):\n",
    "    prons.append(line.strip())\n",
    "lines = [line.strip().split('\\t') for line in sys.stdin if line!='\\n']\n",
    "for key, group in groupby(lines, key=lambda x:x[0]):\n",
    "    try:\n",
    "        head, collocation, position = key.split('_')\n",
    "        max_score = -float('inf')\n",
    "        example = ''\n",
    "        for _, s in group:\n",
    "            count = 0\n",
    "            sent = tokens(s)\n",
    "            for word in sent:\n",
    "                if word not in HiFreWords:\n",
    "                    count += 1\n",
    "                if word in prons:\n",
    "                    count += 1\n",
    "            if sent.index(head)-count > max_score:\n",
    "                max_score = sent.index(head)-count\n",
    "                example = s\n",
    "        print(key+'\\t'+example)\n",
    "    except:\n",
    "        continue"
   ]
  },
  {
   "cell_type": "code",
   "execution_count": null,
   "metadata": {},
   "outputs": [],
   "source": []
  }
 ],
 "metadata": {
  "kernelspec": {
   "display_name": "Python 3",
   "language": "python",
   "name": "python3"
  },
  "language_info": {
   "codemirror_mode": {
    "name": "ipython",
    "version": 3
   },
   "file_extension": ".py",
   "mimetype": "text/x-python",
   "name": "python",
   "nbconvert_exporter": "python",
   "pygments_lexer": "ipython3",
   "version": "3.5.4"
  }
 },
 "nbformat": 4,
 "nbformat_minor": 2
}
