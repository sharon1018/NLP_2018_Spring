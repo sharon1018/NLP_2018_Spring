{
 "cells": [
  {
   "cell_type": "code",
   "execution_count": 118,
   "metadata": {},
   "outputs": [
    {
     "name": "stdout",
     "output_type": "stream",
     "text": [
      "take to\n",
      "without\n",
      "more fun\n"
     ]
    }
   ],
   "source": [
    "import re\n",
    "from collections import Counter\n",
    "from nltk import ngrams\n",
    "\n",
    "def words(text): return re.findall(r'\\w+', text.lower())\n",
    "\n",
    "# WORDS  = Counter(words(open(\"C:/Users/asus/Downloads/nlp/big.txt\", encoding='utf-8').read()))\n",
    "# WORDS2 = (words(open(\"C:/Users/asus/Downloads/nlp/big.txt\", encoding='utf-8').read()))\n",
    "# WORDS3 = ' '.join(WORDS2)\n",
    "# seperate_count= Counter(arr) #計算bigram出現次數\n",
    "\n",
    "def bigram(text):\n",
    "    \" bigram + unigram 後再計算出現次數 \"\n",
    "    bigram_word=[]\n",
    "    unigram_word = words(text)\n",
    "    bigram = (ngrams(text.split(), 2))\n",
    "    for text in bigram:\n",
    "        bigram_word.append(\" \".join(text))\n",
    "    return bigram_word + unigram_word\n",
    "\n",
    "WORDS = Counter(bigram(open(\"C:/Users/asus/Downloads/nlp/big.txt\", encoding='utf-8').read()))\n",
    "\n",
    "def P(word, N=sum(WORDS.values())):  #N: sum of all words\n",
    "    \"Probability of `word`.\"\n",
    "    return WORDS[word] / N\n",
    "\n",
    "def correction(word): \n",
    "    \"Most probable spelling correction for word.\"\n",
    "    if fusion:\n",
    "        return max(fusion(word), key=P)\n",
    "    return max(candidates(word), key=P)\n",
    "    \n",
    "#     return  max(fusion(word), key=P) or max(candidates(word), key=P) \n",
    "\n",
    "def candidates(word): \n",
    "    \"Generate possible spelling corrections for word.\"\n",
    "    return (known([word]) or known(edits1(word)) or known(edits2(word)) or [word])\n",
    "\n",
    "def known(words): \n",
    "    \"The subset of `words` that appear in the dictionary of WORDS.\"\n",
    "    return set( w for w in words if w in WORDS)\n",
    "    \n",
    "def edits1(word):\n",
    "    \"All edits that are one edit away from `word`.\"\n",
    "    letters    = 'abcdefghijklmnopqrstuvwxyz'\n",
    "    splits     = [(word[:i], word[i:])    for i in range(len(word) + 1)]\n",
    "    deletes    = [L + R[1:]               for L, R in splits if R]\n",
    "    transposes = [L + R[1] + R[0] + R[2:] for L, R in splits if len(R)>1] #split後 swap相鄰字母\n",
    "    replaces   = [L + c + R[1:]           for L, R in splits if R for c in letters] #替換成a-z其中一個字母\n",
    "    inserts    = [L + c + R               for L, R in splits for c in letters]       \n",
    "    return set(deletes + transposes + replaces + inserts)\n",
    "\n",
    "def fusion(word):\n",
    "    \" 移除空格 split後若分別在WORDS中就輸出 \"\n",
    "    fusion_list=[]\n",
    "    word = word.replace(\" \",\"\")\n",
    "    splits     = [(word[:i], word[i:])    for i in range(len(word) + 1)]\n",
    "    for L, R in splits:\n",
    "        if L in WORDS and R in WORDS:\n",
    "            fusion_list.append(L + \" \" + R)  # taketo -> take to , mor efun-> more fun\n",
    "    \" 移除空格後若在WORDS中即輸出 \"\n",
    "#     word = word.replace(\" \",\"\")  會有錯????\n",
    "    if word in WORDS:\n",
    "        fusion_list.append(word)             # with out -> without\n",
    "    return fusion_list  \n",
    "\n",
    "def edits2(word):\n",
    "    \"All edits that are two edits away from `word`.\"\n",
    "    return (e2 for e1 in edits1(word) for e2 in edits1(e1))\n",
    "\n",
    "print(correction('taketo'))\n",
    "print(correction('with out'))\n",
    "print(correction('mor efun'))"
   ]
  },
  {
   "cell_type": "code",
   "execution_count": null,
   "metadata": {},
   "outputs": [],
   "source": []
  }
 ],
 "metadata": {
  "kernelspec": {
   "display_name": "Python 3",
   "language": "python",
   "name": "python3"
  },
  "language_info": {
   "codemirror_mode": {
    "name": "ipython",
    "version": 3
   },
   "file_extension": ".py",
   "mimetype": "text/x-python",
   "name": "python",
   "nbconvert_exporter": "python",
   "pygments_lexer": "ipython3",
   "version": "3.5.4"
  }
 },
 "nbformat": 4,
 "nbformat_minor": 2
}
