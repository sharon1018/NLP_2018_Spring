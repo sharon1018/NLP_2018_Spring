{
 "cells": [
  {
   "cell_type": "markdown",
   "metadata": {},
   "source": [
    "## Lab06\n",
    "- Compute ngrams in CORP to obtain {($w_1$,...,$w_n$, freq($w_1$,...,$w_n$)) || n[2,6]}\n",
    "- Set up SkipGram (dict), use 2 level of key (headword, collocate), each key is associated with a Counter P\n",
    "- Update P for bigram {(w1,wn) by adding freq($w_1$,...,$w_n$) to position n and update P for bigram   ($w_n$,$w_n$) for position -n\n",
    "- Filter the collocates: \n",
    "    - strength of $w_i$, $k_i$ = ($feq_i$-freq_) / $\\delta$> $\\lambda_1$\n",
    "    - peak frequency of j such that $P^j_i$  > $p_i$ + $\\lambda_3$*$\\sqrt{vi}$"
   ]
  },
  {
   "cell_type": "code",
   "execution_count": null,
   "metadata": {},
   "outputs": [],
   "source": [
    "akl = dict( [ (x+'-n', True) for x in 'focus, ability, absence, account, achievement, act, action, activity, addition, adoption, adult, advance, advantage, advice, age, aim, alternative, amount, analogy, analysis, application, approach, argument, aspect, assertion, assessment, assistance, association, assumption, attempt, attention, attitude, author, awareness, balance, basis, behaviour, behavior, being, belief, benefit, bias, birth, capacity, case, category, cause, centre, challenge, change, character, characteristic, choice, circumstance, class, classification, code, colleague, combination, commitment, committee, communication, community, comparison, complexity, compromise, concentration, concept, conception, concern, conclusion, condition, conduct, conflict, consensus, consequence, consideration, constraint, construction, content, contradiction, contrast, contribution, control, convention, correlation, country, creation, crisis, criterion, criticism, culture, damage, data, debate, decision, decline, defence, defense, definition, degree, demand, description, destruction, determination, development, difference, difficulty, dilemma, dimension, disadvantage, discovery, discrimination, discussion, distinction, diversity, division, doctrine, effect, effectiveness, element, emphasis, environment, error, essence, establishment, evaluation, event, evidence, evolution, examination, example, exception, exclusion, existence, expansion, experience, experiment, explanation, exposure, extent, extreme, fact, factor, failure, feature, female, figure, finding, force, form, formation, function, future, gain, group, growth, guidance, guideline, hypothesis, idea, identity, impact, implication, importance, improvement, increase, indication, individual, influence, information, insight, instance, institution, integration, interaction, interest, interpretation, intervention, introduction, investigation, isolation, issue, kind, knowledge, lack, learning, level, likelihood, limit, limitation, link, list, literature, logic, loss, maintenance, majority, male, manipulation, mankind, material, means, measure, medium, member, method, minority, mode, model, motivation, movement, need, network, norm, notion, number, observation, observer, occurrence, operation, opportunity, option, organisation, organization, outcome, output, paper, parallel, parent, part, participant, past, pattern, percentage, perception, period, person, personality, perspective, phenomenon, point, policy, population, position, possibility, potential, practice, presence, pressure, problem, procedure, process, production, programme, program, progress, property, proportion, proposition, protection, provision, publication, purpose, quality, question, range, rate, reader, reality, reason, reasoning, recognition, reduction, reference, relation, relationship, relevance, report, representative, reproduction, requirement, research, resistance, resolution, resource, respect, restriction, result, review, rise, risk, role, rule, sample, scale, scheme, scope, search, section, selection, sense, separation, series, service, set, sex, shift, significance, similarity, situation, skill, society, solution, source, space, spread, standard, statistics, stimulus, strategy, stress, structure, subject, success, summary, support, survey, system, target, task, team, technique, tendency, tension, term, theme, theory, tolerance, topic, tradition, transition, trend, type, uncertainty, understanding, unit, use, validity, value, variation, variety, version, view, viewpoint, volume, whole, work, world'.split(', ') ]+            [ (x+'-v', True)  for x in 'accept, account, achieve, acquire, act, adapt, adopt, advance, advocate, affect, aid, aim, allocate, allow, alter, analyse, analyze, appear, apply, argue, arise, assert, assess, assign, associate, assist, assume, attain, attempt, attend, attribute, avoid, base, be, become, benefit, can, cause, characterise, characterize, choose, cite, claim, clarify, classify, coincide, combine, compare, compete, comprise, concentrate, concern, conclude, conduct, confine, conform, connect, consider, consist, constitute, construct, contain, contrast, contribute, control, convert, correspond, create, damage, deal, decline, define, demonstrate, depend, derive, describe, design, destroy, determine, develop, differ, differentiate, diminish, direct, discuss, display, distinguish, divide, dominate, effect, eliminate, emerge, emphasize, employ, enable, encounter, encourage, enhance, ensure, establish, evaluate, evolve, examine, exceed, exclude, exemplify, exist, expand, experience, explain, expose, express, extend, facilitate, fail, favour, favor, finance, focus, follow, form, formulate, function, gain, generate, govern, highlight, identify, illustrate, imply, impose, improve, include, incorporate, increase, indicate, induce, influence, initiate, integrate, interpret, introduce, investigate, involve, isolate, label, lack, lead, limit, link, locate, maintain, may, measure, neglect, note, obtain, occur, operate, outline, overcome, participate, perceive, perform, permit, pose, possess, precede, predict, present, preserve, prevent, produce, promote, propose, prove, provide, publish, pursue, quote, receive, record, reduce, refer, reflect, regard, regulate, reinforce, reject, relate, rely, remain, remove, render, replace, report, represent, reproduce, require, resolve, respond, restrict, result, retain, reveal, seek, select, separate, should, show, solve, specify, state, stimulate, strengthen, stress, study, submit, suffer, suggest, summarise, summarize, supply, support, sustain, tackle, tend, term, transform, treat, undermine, undertake, use, vary, view, write, yield'.split(', ') ]+            [ (x+'-adj', True) for x in 'absolute, abstract, acceptable, accessible, active, actual, acute, additional, adequate, alternative, apparent, applicable, appropriate, arbitrary, available, average, basic, central, certain, clear, common, competitive, complete, complex, comprehensive, considerable, consistent, conventional, correct, critical, crucial, dependent, detailed, different, difficult, distinct, dominant, early, effective, equal, equivalent, essential, evident, excessive, experimental, explicit, extensive, extreme, far, favourable, favorable, final, fixed, following, formal, frequent, fundamental, future, general, great, high, human, ideal, identical, immediate, important, inadequate, incomplete, independent, indirect, individual, inferior, influential, inherent, initial, interesting, internal, large, late, leading, likely, limited, local, logical, main, major, male, maximum, mental, minimal, minor, misleading, modern, mutual, natural, necessary, negative, new, normal, obvious, original, other, overall, parallel, partial, particular, passive, past, permanent, physical, positive, possible, potential, practical, present, previous, primary, prime, principal, productive, profound, progressive, prominent, psychological, radical, random, rapid, rational, real, realistic, recent, related, relative, relevant, representative, responsible, restricted, scientific, secondary, selective, separate, severe, sexual, significant, similar, simple, single, so-called, social, special, specific, stable, standard, strict, subsequent, substantial, successful, successive, sufficient, suitable, surprising, symbolic, systematic, theoretical, total, traditional, true, typical, unique, unlike, unlikely, unsuccessful, useful, valid, valuable, varied, various, visual, vital, wide, widespread'.split(', ') ]+            [ (x+'-adv', True) for x in 'above, accordingly, accurately, adequately, also, approximately, at best, basically, clearly, closely, commonly, consequently, considerably, conversely, correctly, directly, effectively, e.g., either, equally, especially, essentially, explicitly, extremely, fairly, far, for example, for instance, frequently, fully, further, generally, greatly, hence, highly, however, increasingly, indeed, independently, indirectly, inevitably, initially, in general, in particular, largely, less, mainly, more, moreover, most, namely, necessarily, normally, notably, often, only, originally, over, partially, particularly, potentially, previously, primarily, purely, readily, recently, relatively, secondly, significantly, similarly, simply, socially, solely somewhat, specifically, strongly, subsequently, successfully, thereby, therefore, thus, traditionally, typically, ultimately, virtually, wholly, widely'.split(', ') ] )"
   ]
  },
  {
   "cell_type": "code",
   "execution_count": null,
   "metadata": {},
   "outputs": [],
   "source": [
    "# Ref: https://blog.csdn.net/jinping_shi/article/details/61203395\n",
    "from collections import defaultdict, Counter\n",
    "data = [line.strip().split('\\t') for line in open(r'C:/Users/asus/Downloads/nlp/Lab6/citeseerx.ngms','r', encoding='utf-8')]\n",
    "\n",
    "skipBigramDistance = defaultdict(lambda:defaultdict(Counter))\n",
    "# skipBigramExample = defaultdict(lambda: Counter)\n",
    "def read_ngrams(data):\n",
    "    for sentence, count in data: #format : (word, word, ... count)\n",
    "        ngram = sentence.split(' ')\n",
    "        # 取每個n-gram首尾的2個詞组成skip bigram，就可以得到這個skip bigram在距離n−1上的次数。\n",
    "        skipBigramDistance[ngram[0]][ngram[-1]] += Counter({len(ngram)-1: int(count)})#正向距離\n",
    "        skipBigramDistance[ngram[-1]][ngram[0]] += Counter({1-len(ngram): int(count)})#負向距離 \n",
    "\n",
    "read_ngrams(data)\n",
    "# print(skipBigramDistance['play-v']) # 看base word=play的搭配词\n",
    "\n",
    "import numpy as np\n",
    "skip_bigram_abc = defaultdict(lambda: 0)\n",
    "\n",
    "import math\n",
    "k0 = 1\n",
    "U0 = 10\n",
    "k1 = 1\n",
    "max_distance = 5\n",
    "\n",
    "for word, vals in skipBigramDistance.items():\n",
    "    count = []\n",
    "    if word in akl:\n",
    "        for coll, val in vals.items():\n",
    "            c = val.values()\n",
    "            c_bar = sum(c) / (2*max_distance)\n",
    "            skip_bigram_abc[(word, coll, 'freq')] = sum(c)\n",
    "            skip_bigram_abc[(word, coll, 'spread')] = ((sum([x**2 for x in c]) - 2*c_bar*sum(c) + 2*max_distance*c_bar**2) / (2 * max_distance))**(0.5)\n",
    "            count.append(sum(c))\n",
    "        skip_bigram_abc[(word, 'avg_freq')] = np.mean(count)\n",
    "        skip_bigram_abc[(word, 'dev')] = np.std(count)\n",
    "\n",
    "# filter out the correct skip gram\n",
    "# calculate coll, dist, strength, spread, peak, count\n",
    "def skip_bigram_filter(skipBigramDistance, skip_bigram_abc):\n",
    "    cc = []\n",
    "    for word, vals in skipBigramDistance.items():\n",
    "        f = skip_bigram_abc[(word, 'avg_freq')]\n",
    "        for coll, val in vals.items():\n",
    "            if skip_bigram_abc[(word, 'dev')]-0 < 1E-6:\n",
    "                strength = 0\n",
    "            else:\n",
    "                strength = (skip_bigram_abc[(word, coll, 'freq')] - f) / skip_bigram_abc[(word, 'dev')]\n",
    "            if strength < k0:\n",
    "                continue\n",
    "            spread = skip_bigram_abc[(word, coll, 'spread')]\n",
    "            if spread < U0:\n",
    "                continue\n",
    "            c_bar = sum(val.values()) / (2*max_distance)\n",
    "            peak = c_bar + k1 * math.sqrt(spread)\n",
    "            for dist, count in val.items():\n",
    "                if count >= peak:\n",
    "                    cc.append((word, coll, dist, strength, spread, peak, count))\n",
    "    return cc\n",
    "\n",
    "cc = skip_bigram_filter(skipBigramDistance, skip_bigram_abc)\n",
    "\n",
    "# format data to pandas\n",
    "import pandas\n",
    "collocations_df = pandas.DataFrame(cc, columns = ['base_word', 'collocate', 'distance', 'strength', 'spread', 'peak', 'p'])\n",
    "# collocations_df = collocations_df.set_index(['base_word', 'collocate', 'distance']).sort_index()"
   ]
  },
  {
   "cell_type": "code",
   "execution_count": null,
   "metadata": {},
   "outputs": [],
   "source": [
    "# print out result\n",
    "collocations_df[collocations_df.base_word=='role-n']"
   ]
  }
 ],
 "metadata": {
  "kernelspec": {
   "display_name": "Python 3",
   "language": "python",
   "name": "python3"
  },
  "language_info": {
   "codemirror_mode": {
    "name": "ipython",
    "version": 3
   },
   "file_extension": ".py",
   "mimetype": "text/x-python",
   "name": "python",
   "nbconvert_exporter": "python",
   "pygments_lexer": "ipython3",
   "version": "3.5.4"
  }
 },
 "nbformat": 4,
 "nbformat_minor": 2
}
